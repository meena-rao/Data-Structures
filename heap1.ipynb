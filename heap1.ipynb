{
 "cells": [
  {
   "cell_type": "code",
   "execution_count": null,
   "id": "3e27aa73",
   "metadata": {},
   "outputs": [],
   "source": [
    "1. Describe Python's built-in data structure?\n",
    "\n",
    "-Lists are used to store data of different data types in a sequential manner.\n",
    "-Dictionaries are used to store key-value pairs\n",
    "-Tuples are the same as lists are with the exception that the data once entered into the tuple cannot be changed no matter what\n",
    "-Sets are a collection of unordered elements that are unique. Meaning that even if the data is repeated more than one time, it would be entered into the set only once."
   ]
  },
  {
   "cell_type": "code",
   "execution_count": null,
   "id": "24999481",
   "metadata": {},
   "outputs": [],
   "source": [
    "2. Describe the Python user data structure?\n",
    "\n",
    "User-defined Data structure:\n",
    "1) Arrays- Arrays Arrays allow only homogenous elements to be stored within them.\n",
    "2) Stacks are linear Data Structures which are based on the principle of Last-In-First-Out (LIFO) where data which is entered last will be the first to get accessed.\n",
    "3) A queue is also a linear data structure which is based on the principle of First-In-First-Out (FIFO) where the data entered first will be accessed first.\n",
    "4) Trees are non-linear Data Structures which have root and nodes. The root is the node from where the data originates and the nodes are the other data points that are available to us.\n",
    "5) Linked lists are linear Data Structures which are not stored consequently but are linked with each other using pointers.\n",
    "6) Graphs are used to store data collection of points called vertices (nodes) and edges (edges). Graphs can be called as the most accurate representation of a real-world map. \n",
    "7) HashMaps are the same as what dictionaries are in Python. They can be used to implement applications such as phonebooks, populate data according to the lists and much more."
   ]
  },
  {
   "cell_type": "code",
   "execution_count": null,
   "id": "732224df",
   "metadata": {},
   "outputs": [],
   "source": [
    "3. Describe the stages involved in writing an algorithm?\n",
    "\n",
    "These are the characteristics of a good and correct algorithm −\n",
    "-Has a set of inputs\n",
    "-Steps are uniquely defined\n",
    "-Has finite number of steps\n",
    "-Produces desired output"
   ]
  },
  {
   "cell_type": "code",
   "execution_count": null,
   "id": "e63dfa28",
   "metadata": {},
   "outputs": [],
   "source": [
    "4. Outline the components of a good algorithm?\n",
    "\n",
    "PART1:\n",
    "In order to write an algorithm, following things are needed as a pre-requisite: \n",
    " \n",
    "-The problem that is to be solved by this algorithm.\n",
    "-The constraints of the problem that must be considered while solving the problem.\n",
    "-The input to be taken to solve the problem.\n",
    "-The output to be expected when the problem the is solved.\n",
    "-The solution to this problem, in the given constraints.\n",
    "\n",
    "PART2: Designing the algorithm\n",
    "    \n",
    "PART3: Testing the algorithm by implementing it."
   ]
  },
  {
   "cell_type": "code",
   "execution_count": null,
   "id": "d8df67e3",
   "metadata": {},
   "outputs": [],
   "source": [
    "5. Describe the Tree traversal method?\n",
    "\n",
    "Algorithm Preorder(tree)\n",
    "   1. Visit the root.\n",
    "   2. Traverse the left subtree, i.e., call Preorder(left-subtree)\n",
    "   3. Traverse the right subtree, i.e., call Preorder(right-subtree) \n",
    "    \n",
    "Algorithm Postorder(tree)\n",
    "   1. Traverse the left subtree, i.e., call Preorder(left-subtree)\n",
    "   2. Traverse the right subtree, i.e., call Preorder(right-subtree)\n",
    "   3. Visit the root.\n",
    "    \n",
    "    \n",
    "Algorithm Inorder(tree)\n",
    "   1. Traverse the left subtree, i.e., call Preorder(left-subtree)\n",
    "   2. Visit the root.\n",
    "   3. Traverse the right subtree, i.e., call Preorder(right-subtree) \n",
    "    \n",
    "    "
   ]
  },
  {
   "cell_type": "code",
   "execution_count": null,
   "id": "fc8dacae",
   "metadata": {},
   "outputs": [],
   "source": [
    "6. Explain the difference between inorder and postorder tree traversal?\n",
    "\n",
    "Inorder Traversal (left-current-right)— \n",
    "-Visit the current node after visiting all nodes inside left subtree but before visiting any node within the right subtree.\n",
    "\n",
    "Postorder Traversal (left-right-current) — \n",
    "Visit the current node after visiting all the nodes of left and right subtrees"
   ]
  }
 ],
 "metadata": {
  "kernelspec": {
   "display_name": "Python 3 (ipykernel)",
   "language": "python",
   "name": "python3"
  },
  "language_info": {
   "codemirror_mode": {
    "name": "ipython",
    "version": 3
   },
   "file_extension": ".py",
   "mimetype": "text/x-python",
   "name": "python",
   "nbconvert_exporter": "python",
   "pygments_lexer": "ipython3",
   "version": "3.9.7"
  }
 },
 "nbformat": 4,
 "nbformat_minor": 5
}
