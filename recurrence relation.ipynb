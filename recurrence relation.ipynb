{
 "cells": [
  {
   "cell_type": "code",
   "execution_count": null,
   "id": "6c18db04",
   "metadata": {},
   "outputs": [],
   "source": [
    "1. What is the distinction between a list and an array?\n",
    "\n",
    "Array stores homogeneous data values, and the list can store heterogeneous data values."
   ]
  },
  {
   "cell_type": "code",
   "execution_count": null,
   "id": "fb57af8b",
   "metadata": {},
   "outputs": [],
   "source": [
    "2. What are the qualities of a binary tree?\n",
    "\n",
    "Each node has a maximum of up to two children.\n",
    "The maximum number of nodes at level ‘l’ of a binary tree is pow(2,l). \n",
    "The Maximum number of nodes in a binary tree of height ‘h’ is pow(2,h) – 1. "
   ]
  },
  {
   "cell_type": "code",
   "execution_count": null,
   "id": "90b737fc",
   "metadata": {},
   "outputs": [],
   "source": [
    "3. What is the best way to combine two balanced binary search trees?\n",
    "\n",
    "1) Do inorder traversal of first tree and store the traversal in one temp array arr1[]. This step takes O(m) time. \n",
    "2) Do inorder traversal of second tree and store the traversal in another temp array arr2[]. This step takes O(n) time. \n",
    "3) The arrays created in step 1 and 2 are sorted arrays. Merge the two sorted arrays into one array of size m + n. This step takes O(m+n) time. \n",
    "4) Construct a balanced tree from the merged array."
   ]
  },
  {
   "cell_type": "code",
   "execution_count": null,
   "id": "084ce60c",
   "metadata": {},
   "outputs": [],
   "source": [
    "4. How would you describe Heap in detail?\n",
    "\n",
    "A Heap is a special Tree-based data structure in which the tree is a complete binary tree. Generally, Heaps can be of two types:\n",
    "\n",
    "Max-Heap: In a Max-Heap the key present at the root node must be greatest among the keys present at all of it’s children. \n",
    "    The same property must be recursively true for all sub-trees in that Binary Tree.\n",
    "    \n",
    "Min-Heap: In a Min-Heap the key present at the root node must be minimum among the keys present at all of it’s children. \n",
    "    The same property must be recursively true for all sub-trees in that Binary Tree."
   ]
  },
  {
   "cell_type": "code",
   "execution_count": null,
   "id": "dbdffdaa",
   "metadata": {},
   "outputs": [],
   "source": [
    "5. In terms of data structure, what is a HashMap?\n",
    "\n",
    "A HashMap is a data structure that is able to map certain keys to certain values. The keys and values could be anything.\n",
    "\n",
    "Hash map is a widely used efficient data structure that used to store data which can be searched in constant time O(1) "
   ]
  },
  {
   "cell_type": "code",
   "execution_count": null,
   "id": "3af116a5",
   "metadata": {},
   "outputs": [],
   "source": [
    "6. How do you explain the complexities of time and space?\n",
    "\n",
    "Time complexity is a function describing the amount of time an algorithm takes in terms of the amount of input to the algorithm. ...\n",
    "Space complexity is a function describing the amount of memory (space) an algorithm takes in terms of the amount of input to the algorithm\n"
   ]
  },
  {
   "cell_type": "code",
   "execution_count": null,
   "id": "fa1a4493",
   "metadata": {},
   "outputs": [],
   "source": [
    "7. How do you recursively sort a stack?\n",
    "\n",
    "Algo:\n",
    "    \n",
    "sortStack(stack S)\n",
    "    if stack is not empty:\n",
    "        temp = pop(S);  \n",
    "        sortStack(S); \n",
    "        sortedInsert(S, temp);\n",
    "        \n",
    "        \n",
    "sortedInsert(Stack S, element)\n",
    "    if stack is empty OR element > top element\n",
    "        push(S, elem)\n",
    "    else\n",
    "        temp = pop(S)\n",
    "        sortedInsert(S, element)\n",
    "        push(S, temp)        \n",
    "        "
   ]
  }
 ],
 "metadata": {
  "kernelspec": {
   "display_name": "Python 3 (ipykernel)",
   "language": "python",
   "name": "python3"
  },
  "language_info": {
   "codemirror_mode": {
    "name": "ipython",
    "version": 3
   },
   "file_extension": ".py",
   "mimetype": "text/x-python",
   "name": "python",
   "nbconvert_exporter": "python",
   "pygments_lexer": "ipython3",
   "version": "3.9.7"
  }
 },
 "nbformat": 4,
 "nbformat_minor": 5
}
