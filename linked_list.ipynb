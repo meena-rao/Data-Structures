{
 "cells": [
  {
   "cell_type": "code",
   "execution_count": null,
   "id": "9e3407db",
   "metadata": {},
   "outputs": [],
   "source": [
    "1. What is a linked list?\n",
    "\n",
    "A linked list consists of nodes where each node contains a data field and a reference(link) to the next node in the list."
   ]
  },
  {
   "cell_type": "code",
   "execution_count": null,
   "id": "db667c93",
   "metadata": {},
   "outputs": [],
   "source": [
    "2. What are the different forms of linked lists?\n",
    "\n",
    "Singly Linked List\n",
    "Doubly Linked List\n",
    "Circular Linked List"
   ]
  },
  {
   "cell_type": "code",
   "execution_count": null,
   "id": "e8ca6a73",
   "metadata": {},
   "outputs": [],
   "source": [
    "3. What is a linked list's purpose?\n",
    "Dynamic data structure: A linked list is a dynamic arrangement so it can grow and shrink at runtime by allocating and\n",
    "    deallocating memory. So there is no need to give the initial size of the linked list"
   ]
  },
  {
   "cell_type": "code",
   "execution_count": null,
   "id": "200d5476",
   "metadata": {},
   "outputs": [],
   "source": [
    "4. What are the advantages of linked lists over arrays?\n",
    "\n",
    "1.you need constant-time insertions/deletions from the list (such as in real-time computing where time predictability is absolutely critical)\n",
    "2.you do not know how many items will be in the list. With arrays, you may need to re-declare and copy memory if the array grows too big\n",
    "3.you do not need random access to any elements\n",
    "4.you want to be able to insert items in the middle of the list (such as a priority queue)\n",
    "5. A circular linked list can be effectively used to create a queue (FIFO) or a deque (efficient insert and remove from front and back)"
   ]
  },
  {
   "cell_type": "code",
   "execution_count": null,
   "id": "db3abb6a",
   "metadata": {},
   "outputs": [],
   "source": [
    "5. What is the purpose of a circular linked list?\n",
    "\n",
    "1. A good example of an application where circular linked list should be used is a timesharing problem solved by the operating system.\n",
    "2. We can use circular linked list any application where the entries appear in a rotating manner.\n",
    "3. Circular linked list is the basic idea of round robin scheduling algorithm."
   ]
  },
  {
   "cell_type": "code",
   "execution_count": null,
   "id": "863ca56d",
   "metadata": {},
   "outputs": [],
   "source": [
    "6. How will you explain Circular Linked List?\n",
    "\n",
    "A singly linked circular list is a linked list where the last node in thelist points to the first node in the list. \n",
    "A circular list does not contain NULL pointers."
   ]
  }
 ],
 "metadata": {
  "kernelspec": {
   "display_name": "Python 3 (ipykernel)",
   "language": "python",
   "name": "python3"
  },
  "language_info": {
   "codemirror_mode": {
    "name": "ipython",
    "version": 3
   },
   "file_extension": ".py",
   "mimetype": "text/x-python",
   "name": "python",
   "nbconvert_exporter": "python",
   "pygments_lexer": "ipython3",
   "version": "3.9.7"
  }
 },
 "nbformat": 4,
 "nbformat_minor": 5
}
