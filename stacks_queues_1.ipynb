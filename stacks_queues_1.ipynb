{
 "cells": [
  {
   "cell_type": "code",
   "execution_count": null,
   "id": "333fb27e",
   "metadata": {},
   "outputs": [],
   "source": [
    "1. Use examples to explain the sorting algorithms.\n",
    "\n",
    "\"Sorting refers to the operation or technique of arranging and rearranging sets of data in some specific order\"\n",
    "Some of the sortng algorithms are given here:\n",
    "Bubble Sort.\n",
    "Selection Sort.\n",
    "Merge Sort.\n",
    "Insertion Sort.\n",
    "Quick Sort.\n",
    "Heap Sort.\n",
    "\n",
    "BUBBLE SORT: \n",
    "\"It is used to arrange N elements in order, for that, you have to begin with 0th element,compare it with the first element.\" \n",
    "\"If the 0th element is found greater than the 1st element, then the swapping operation will be performed, i.e., the two values will get interchanged. In this way, all the elements of the array get compared.\"    \n",
    "consider list: \n",
    "    5,4,3,2,1    \n",
    "    4,5,3,2,1\n",
    "    4,3,5,2,1\n",
    "    4,3,2,5,1\n",
    "    4,3,2,1,5  this is the first iteration where largest element gets the last position.\n",
    "    Finally we get 1,2,3,4,5.\n",
    "    \n",
    "    \n"
   ]
  },
  {
   "cell_type": "code",
   "execution_count": 3,
   "id": "0db2946c",
   "metadata": {},
   "outputs": [
    {
     "name": "stdout",
     "output_type": "stream",
     "text": [
      " 11  12  22  25  34  64  90 "
     ]
    }
   ],
   "source": [
    "def bubbleSort(arr):\n",
    "    n = len(arr)    \n",
    "    for i in range(n-1):    \n",
    "        for j in range(0, n-i-1): \n",
    "            if arr[j] > arr[j + 1] :\n",
    "                arr[j], arr[j + 1] = arr[j + 1], arr[j]\n",
    "                \n",
    "arr = [64, 34, 25, 12, 22, 11, 90] \n",
    "bubbleSort(arr)\n",
    "for i in range(len(arr)):\n",
    "    print(\"% d\" % arr[i],end=\" \")"
   ]
  },
  {
   "cell_type": "code",
   "execution_count": null,
   "id": "c40fdc87",
   "metadata": {},
   "outputs": [],
   "source": [
    "\"The selection sort, to sort the data in ascending order, the 0th element is compared with all other elements. \n",
    "\"If the 0th element is found to be greater than the compared element, the two values get interchanged. In this way after the first iteration, the smallest element is placed at 0th position. The technique is repeated until the full array gets sorted\"\n",
    "3,9,6,1,2\n",
    "1,9,6,3,2\n",
    "1,2,6,3,9\n",
    "1,2,3,6,9"
   ]
  },
  {
   "cell_type": "code",
   "execution_count": 6,
   "id": "f35124d5",
   "metadata": {},
   "outputs": [
    {
     "name": "stdout",
     "output_type": "stream",
     "text": [
      "Sorted array\n"
     ]
    },
    {
     "data": {
      "text/plain": [
       "[11, 12, 22, 25, 34, 64, 90]"
      ]
     },
     "execution_count": 6,
     "metadata": {},
     "output_type": "execute_result"
    }
   ],
   "source": [
    "def selection_sort(A):\n",
    "    for i in range(len(A)):     \n",
    "        min_idx = i\n",
    "        for j in range(i+1, len(A)):\n",
    "            if A[min_idx] > A[j]:\n",
    "                min_idx = j              \n",
    "           \n",
    "        A[i], A[min_idx] = A[min_idx], A[i] \n",
    "        \n",
    "arr = [64, 34, 25, 12, 22, 11, 90]   \n",
    "selection_sort(arr)\n",
    "print (\"Sorted array\")\n",
    "arr"
   ]
  },
  {
   "cell_type": "code",
   "execution_count": null,
   "id": "14af4299",
   "metadata": {},
   "outputs": [],
   "source": [
    "2. What Are the Benefits of Stacks?\n",
    "\n",
    "1)\"Efficient mangement of functions- When a function is called the local variables are stored in a stack, and it is automatically destroyed once returned. A stack is used when a variable is not used outside that function. It allows you to control how memory is allocated and deallocated. Stack automatically cleans up the object.\"\"\n",
    "2)\"stack helps for LIFO method. \"\n",
    "3)\"memory management is efficicient in terms of dynamic memory management\"\n",
    "4)\"reversing becomes easy\"\n",
    "5)\"one of the drawback-If you find yourself needing to index your data structure and get a specific item in the middle of your use case, stacks are not the solution. It would take O of N time in the worst case because you would need to pop off everything on the stack\"]"
   ]
  },
  {
   "cell_type": "code",
   "execution_count": null,
   "id": "f8b17dd9",
   "metadata": {},
   "outputs": [],
   "source": [
    "3. What is the difference between a stack and a queue?\n",
    "\n",
    "\"stack is an ordered list of elements where all insertions and deletions are made at the same end, whereas a queue is exactly the opposite of a stack which is open at both the ends meaning one end is used to insert data while the other to remove data. \""
   ]
  },
  {
   "cell_type": "code",
   "execution_count": null,
   "id": "6b8e881e",
   "metadata": {},
   "outputs": [],
   "source": [
    "4. What are the different forms of queues?\n",
    "\n",
    "simple queue\n",
    "circular queue\n",
    "priority queue\n",
    "double-ended queue"
   ]
  },
  {
   "cell_type": "code",
   "execution_count": null,
   "id": "37c38bcf",
   "metadata": {},
   "outputs": [],
   "source": [
    "5. Why should I use Stack or Queue data structures instead of Arrays or Lists, and when should I use them?\n",
    "\n",
    "1)\"Stack/Queue are ideal for enforcing sequential rules of access (LIFO & FIFO as you stated) while Array is ideal for allowing random access as desired.\"\n",
    "2)\"Array is always allocated on process stack.So it is advised to use stack/queue or other data structures which can use heap memory with best efficiency.\"\n",
    "3)\"dynamic memory allocation is useful in case of stack and queue for large size requirements.\""
   ]
  },
  {
   "cell_type": "code",
   "execution_count": null,
   "id": "4ef4cb21",
   "metadata": {},
   "outputs": [],
   "source": [
    "6. What is the significance of Stack being a recursive data structure?\n",
    "\n",
    "\"In recursion last function called needs to be completed first. Now Stack is a LIFO data structure i.e. ( Last In First Out) and hence it is used to implement recursion. The High level Programming languages, such as Pascal , C etc. that provides support for recursion use stack for book keeping.\""
   ]
  }
 ],
 "metadata": {
  "kernelspec": {
   "display_name": "Python 3 (ipykernel)",
   "language": "python",
   "name": "python3"
  },
  "language_info": {
   "codemirror_mode": {
    "name": "ipython",
    "version": 3
   },
   "file_extension": ".py",
   "mimetype": "text/x-python",
   "name": "python",
   "nbconvert_exporter": "python",
   "pygments_lexer": "ipython3",
   "version": "3.9.7"
  }
 },
 "nbformat": 4,
 "nbformat_minor": 5
}
