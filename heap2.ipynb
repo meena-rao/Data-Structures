{
 "cells": [
  {
   "cell_type": "code",
   "execution_count": null,
   "id": "84eb10e1",
   "metadata": {},
   "outputs": [],
   "source": [
    "1. What exactly is an application tree?\n",
    "\n",
    "The Application Tree is a tree-view display of the folders, URLs, and files on your application."
   ]
  },
  {
   "cell_type": "code",
   "execution_count": null,
   "id": "503d1d97",
   "metadata": {},
   "outputs": [],
   "source": [
    "2. What is pre-order tree traversal and how does it work?\n",
    "\n",
    "In PreOrder traversal, the root is visited first, followed by left subtree and the right subtree, \n",
    "hence it is also known as NLR (nod-left-right) algorithm as well."
   ]
  },
  {
   "cell_type": "code",
   "execution_count": null,
   "id": "90b2cbdc",
   "metadata": {},
   "outputs": [],
   "source": [
    "3. What is the problem with the Hanoi Tower?\n",
    "\n",
    "The objective of this problem is to move the stack of disks from the initial rod to another rod,\n",
    "following these rules: A disk cannot be placed on top of a smaller disk.\n",
    "    \n",
    "In detail restrictions in solving problem are:\n",
    "-Only one disk can be moved at a time.\n",
    "-Each move consists of taking the upper disk from one of the stacks and placing it on top of another stack i.e. a disk can only be moved if it is the uppermost disk on a stack.\n",
    "-No disk may be placed on top of a smaller disk."
   ]
  },
  {
   "cell_type": "code",
   "execution_count": null,
   "id": "1eb03e24",
   "metadata": {},
   "outputs": [],
   "source": [
    "4. Can you explain the distinction between linear and nonlinear data structures?\n",
    "\n",
    "In a linear data structure, data elements are arranged in a linear order where each and \n",
    "every elements are attached to its previous and next adjacent. Ex: lists\n",
    "\n",
    "In a non-linear data structure, data elements are attached in hierarchically manner. Ex: Linked List"
   ]
  },
  {
   "cell_type": "code",
   "execution_count": null,
   "id": "46458c5e",
   "metadata": {},
   "outputs": [],
   "source": [
    "5. What is the distinction between a list and an array?\n",
    "\n",
    "List can have elements of different types , array can have same datatype elements."
   ]
  }
 ],
 "metadata": {
  "kernelspec": {
   "display_name": "Python 3 (ipykernel)",
   "language": "python",
   "name": "python3"
  },
  "language_info": {
   "codemirror_mode": {
    "name": "ipython",
    "version": 3
   },
   "file_extension": ".py",
   "mimetype": "text/x-python",
   "name": "python",
   "nbconvert_exporter": "python",
   "pygments_lexer": "ipython3",
   "version": "3.9.7"
  }
 },
 "nbformat": 4,
 "nbformat_minor": 5
}
