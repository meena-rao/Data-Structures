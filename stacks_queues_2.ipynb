{
 "cells": [
  {
   "cell_type": "code",
   "execution_count": null,
   "id": "f3d749b5",
   "metadata": {},
   "outputs": [],
   "source": [
    "What is the divide and conquer strategy?\n",
    "\n",
    "This technique can be divided into the following three parts:\n",
    "Divide: This involves dividing the problem into smaller sub-problems.\n",
    "Conquer: Solve sub-problems by calling recursively until solved.\n",
    "Combine: Combine the sub-problems to get the final solution of the whole problem."
   ]
  },
  {
   "cell_type": "code",
   "execution_count": null,
   "id": "824f8cd8",
   "metadata": {},
   "outputs": [],
   "source": [
    "2. What is binary search and how does it work?\n",
    "A binary search is an advanced type of search algorithm that finds and fetches data from a sorted list of items. \n",
    "Its core working principle involves dividing the data in the list to half until the required value is located and \n",
    "displayed to the user in the search result. Binary search is commonly known as a half-interval search or a logorithmic serch.\n",
    "\n",
    "The binary search works in the following manner:\n",
    "\n",
    "-The search process initiates by locating the middle element of the sorted array of data\n",
    "-After that, the key value is compared with the element\n",
    "-If the key value is smaller than the middle element, then searches analyses the upper values to the middle element for comparison and matching\n",
    "-In case the key value is greater than the middle element then searches analyses the lower values to the middle element for comparison and matching\n"
   ]
  },
  {
   "cell_type": "code",
   "execution_count": null,
   "id": "53016c5e",
   "metadata": {},
   "outputs": [],
   "source": [
    "3. Explain the distinction between a list and a tuple.\n",
    "\n",
    "1. List is mutable, Tuple are immutable\n",
    "2. The implication of iterations is time-consuming in the list.    Implications of iterations are much faster in tuples.\n",
    "3. Operations like insertion and deletion are better performed in list.    Elements can be accessed betterin tuple\n",
    "4. list Consumes more memory. Tuple Consumes less memory."
   ]
  },
  {
   "cell_type": "code",
   "execution_count": null,
   "id": "790ed1c2",
   "metadata": {},
   "outputs": [],
   "source": [
    "4. Can you explain how Python manages memory?\n",
    "\n",
    "The Python memory manager manages Python’s memory allocations. There’s a private heap that contains all Python objects and \n",
    "data structures. The Python memory manager manages the Python heap on demand. \n",
    "The Python memory manager manages chunks of memory called “Blocks”.\n",
    "A collection of blocks of the same size makes up the “Pool”. \n",
    "Pools are created on Arenas, chunks of 256kB memory allocated on heap=64 pools. \n",
    "If the objects get destroyed, the memory manager fills this space with a new object of the same size."
   ]
  },
  {
   "cell_type": "code",
   "execution_count": null,
   "id": "08a28263",
   "metadata": {},
   "outputs": [],
   "source": [
    "5. What is the difference between pickling and unpickling?\n",
    "\n",
    "The process to converts any kind of python objects (list, dict, etc.) into byte streams (0s and 1s) is called pickling\n",
    "or serialization or flattening or marshalling. \n",
    "We can converts the byte stream (generated through pickling) back into python objects by a process called as unpickling"
   ]
  },
  {
   "cell_type": "code",
   "execution_count": null,
   "id": "fcef4af5",
   "metadata": {},
   "outputs": [],
   "source": [
    "6. What are the different types of search algorithms?\n",
    "\n",
    "Linear Search \n",
    "Binary Search\n",
    "Interpolation Search\n",
    "Exponential Search\n",
    "Fibonacci Search\n",
    "The Ubiquitous Binary Search"
   ]
  }
 ],
 "metadata": {
  "kernelspec": {
   "display_name": "Python 3 (ipykernel)",
   "language": "python",
   "name": "python3"
  },
  "language_info": {
   "codemirror_mode": {
    "name": "ipython",
    "version": 3
   },
   "file_extension": ".py",
   "mimetype": "text/x-python",
   "name": "python",
   "nbconvert_exporter": "python",
   "pygments_lexer": "ipython3",
   "version": "3.9.7"
  }
 },
 "nbformat": 4,
 "nbformat_minor": 5
}
